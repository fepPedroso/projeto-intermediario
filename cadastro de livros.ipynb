{
  "nbformat": 4,
  "nbformat_minor": 0,
  "metadata": {
    "colab": {
      "provenance": [],
      "mount_file_id": "1IyeD1dve0wluXc747wxYM9xAshdMnT42",
      "authorship_tag": "ABX9TyMiRxCA6OOFiBNELnekZkBh",
      "include_colab_link": true
    },
    "kernelspec": {
      "name": "python3",
      "display_name": "Python 3"
    },
    "language_info": {
      "name": "python"
    }
  },
  "cells": [
    {
      "cell_type": "markdown",
      "metadata": {
        "id": "view-in-github",
        "colab_type": "text"
      },
      "source": [
        "<a href=\"https://colab.research.google.com/github/fepPedroso/projeto-intermediario/blob/main/cadastro%20de%20livros.ipynb\" target=\"_parent\"><img src=\"https://colab.research.google.com/assets/colab-badge.svg\" alt=\"Open In Colab\"/></a>"
      ]
    },
    {
      "cell_type": "code",
      "execution_count": 16,
      "metadata": {
        "colab": {
          "base_uri": "https://localhost:8080/",
          "height": 715
        },
        "id": "6BkGCzG5US-X",
        "outputId": "7399c2b3-44fc-48d9-bd5d-4bfa6004b292"
      },
      "outputs": [
        {
          "output_type": "stream",
          "name": "stdout",
          "text": [
            "=== Sistema de Biblioteca ===\n",
            "\n",
            "===== LISTA DE LIVROS =====\n",
            "Título: Python Básico, Autor: Ana, Gênero: Programação, Quantidade: 5\n",
            "Título: Matemática Avançada, Autor: Carlos, Gênero: Ciência, Quantidade: 3\n",
            "Título: Literatura Clássica, Autor: Maria, Gênero: Literatura, Quantidade: 7\n",
            "Título: Java para Iniciantes, Autor: Pedro, Gênero: Programação, Quantidade: 4\n",
            "Título: História do Brasil, Autor: Paula, Gênero: História, Quantidade: 6\n",
            "\n",
            "Livro(s) encontrado(s):\n",
            "Título: Python Básico, Autor: Ana, Gênero: Programação, Quantidade: 5\n",
            "\n",
            "Livro(s) encontrado(s):\n",
            "Título: História do Brasil, Autor: Paula, Gênero: História, Quantidade: 6\n"
          ]
        },
        {
          "output_type": "display_data",
          "data": {
            "text/plain": [
              "<Figure size 640x480 with 1 Axes>"
            ],
            "image/png": "[encoded data removed]"
          },
          "metadata": {}
        }
      ],
      "source": [
        "# Importando biblioteca para gráficos\n",
        "import matplotlib.pyplot as plt\n",
        "\n",
        "# Passo 1: Definir a classe Livro\n",
        "class Livro:\n",
        "    def __init__(self, titulo, autor, genero, quantidade):\n",
        "        self.titulo = titulo\n",
        "        self.autor = autor\n",
        "        self.genero = genero\n",
        "        self.quantidade = quantidade\n",
        "\n",
        "# Passo 2: Criar lista de livros\n",
        "biblioteca = []\n",
        "\n",
        "# Cadastro automático de livros (para testar rapidamente)\n",
        "biblioteca.append(Livro(\"Python Básico\", \"Ana\", \"Programação\", 5))\n",
        "biblioteca.append(Livro(\"Matemática Avançada\", \"Carlos\", \"Ciência\", 3))\n",
        "biblioteca.append(Livro(\"Literatura Clássica\", \"Maria\", \"Literatura\", 7))\n",
        "biblioteca.append(Livro(\"Java para Iniciantes\", \"Pedro\", \"Programação\", 4))\n",
        "biblioteca.append(Livro(\"História do Brasil\", \"Paula\", \"História\", 6))\n",
        "\n",
        "# Passo 3: Função para listar todos os livros\n",
        "def listar_livros():\n",
        "    if not biblioteca:\n",
        "        print(\"Nenhum livro cadastrado.\")\n",
        "        return\n",
        "    print(\"\\n===== LISTA DE LIVROS =====\")\n",
        "    for livro in biblioteca:\n",
        "        print(f\"Título: {livro.titulo}, Autor: {livro.autor}, Gênero: {livro.genero}, Quantidade: {livro.quantidade}\")\n",
        "\n",
        "# Função para buscar um livro pelo título\n",
        "def buscar_livro(titulo_busca):\n",
        "    encontrados = [livro for livro in biblioteca if livro.titulo.lower() == titulo_busca.lower()]\n",
        "    if encontrados:\n",
        "        print(\"\\nLivro(s) encontrado(s):\")\n",
        "        for livro in encontrados:\n",
        "            print(f\"Título: {livro.titulo}, Autor: {livro.autor}, Gênero: {livro.genero}, Quantidade: {livro.quantidade}\")\n",
        "    else:\n",
        "        print(f\"Nenhum livro encontrado com o título '{titulo_busca}'.\")\n",
        "\n",
        "# Passo 4: Gerar gráfico de quantidade de livros por gênero\n",
        "def gerar_grafico():\n",
        "    if not biblioteca:\n",
        "        print(\"Nenhum livro cadastrado para gerar gráfico.\")\n",
        "        return\n",
        "    generos = {}\n",
        "    for livro in biblioteca:\n",
        "        generos[livro.genero] = generos.get(livro.genero, 0) + livro.quantidade\n",
        "\n",
        "    # Plotando gráfico de barras\n",
        "    plt.bar(generos.keys(), generos.values(), color='skyblue')\n",
        "    plt.title(\"Quantidade de livros por gênero\")\n",
        "    plt.xlabel(\"Gênero\")\n",
        "    plt.ylabel(\"Quantidade\")\n",
        "    plt.show()\n",
        "\n",
        "# Passo 5: Testando o sistema\n",
        "print(\"=== Sistema de Biblioteca ===\")\n",
        "\n",
        "# Listar livros cadastrados\n",
        "listar_livros()\n",
        "\n",
        "# Buscar livro pelo título (exemplo)\n",
        "buscar_livro(\"Python Básico\")\n",
        "buscar_livro(\"História do Brasil\")\n",
        "\n",
        "# Gerar gráfico\n",
        "gerar_grafico()\n"
      ]
    },
    {
      "cell_type": "code",
      "source": [
        "# Código interativo para o usuário cadastrar livros\n",
        "import matplotlib.pyplot as plt\n",
        "\n",
        "# Passo 1: Definir a classe Livro\n",
        "class Livro:\n",
        "    def __init__(self, titulo, autor, genero, quantidade):\n",
        "        self.titulo = titulo\n",
        "        self.autor = autor\n",
        "        self.genero = genero\n",
        "        self.quantidade = quantidade\n",
        "\n",
        "# Passo 2: Criar lista de livros\n",
        "biblioteca = []  # lista que armazenará os livros\n",
        "\n",
        "# Função para cadastrar um novo livro pelo usuário\n",
        "def cadastrar_livro():\n",
        "    titulo = input(\"Digite o título do livro: \")\n",
        "    autor = input(\"Digite o autor do livro: \")\n",
        "    genero = input(\"Digite o gênero do livro: \")\n",
        "    while True:\n",
        "        try:\n",
        "            quantidade = int(input(\"Digite a quantidade disponível: \"))\n",
        "            break\n",
        "        except ValueError:\n",
        "            print(\"Por favor, digite um número inteiro para quantidade.\")\n",
        "    livro = Livro(titulo, autor, genero, quantidade)\n",
        "    biblioteca.append(livro)\n",
        "    print(f\"Livro '{titulo}' cadastrado com sucesso!\")\n",
        "\n",
        "# Função para listar todos os livros\n",
        "def listar_livros():\n",
        "    if not biblioteca:\n",
        "        print(\"Nenhum livro cadastrado.\")\n",
        "        return\n",
        "    print(\"\\n===== LISTA DE LIVROS =====\")\n",
        "    for livro in biblioteca:\n",
        "        print(f\"Título: {livro.titulo}, Autor: {livro.autor}, Gênero: {livro.genero}, Quantidade: {livro.quantidade}\")\n",
        "\n",
        "# Função para buscar livro pelo título\n",
        "def buscar_livro():\n",
        "    titulo_busca = input(\"Digite o título do livro para buscar: \")\n",
        "    encontrados = [livro for livro in biblioteca if livro.titulo.lower() == titulo_busca.lower()]\n",
        "    if encontrados:\n",
        "        print(\"\\nLivro(s) encontrado(s):\")\n",
        "        for livro in encontrados:\n",
        "            print(f\"Título: {livro.titulo}, Autor: {livro.autor}, Gênero: {livro.genero}, Quantidade: {livro.quantidade}\")\n",
        "    else:\n",
        "        print(\"Nenhum livro encontrado com esse título.\")\n",
        "\n",
        "# Função para gerar gráfico de quantidade de livros por gênero\n",
        "def gerar_grafico():\n",
        "    if not biblioteca:\n",
        "        print(\"Nenhum livro cadastrado para gerar gráfico.\")\n",
        "        return\n",
        "    generos = {}\n",
        "    for livro in biblioteca:\n",
        "        generos[livro.genero] = generos.get(livro.genero, 0) + livro.quantidade\n",
        "\n",
        "    plt.bar(generos.keys(), generos.values(), color='skyblue')\n",
        "    plt.title(\"Quantidade de livros por gênero\")\n",
        "    plt.xlabel(\"Gênero\")\n",
        "    plt.ylabel(\"Quantidade\")\n",
        "    plt.show()\n",
        "\n",
        "# Menu interativo do sistema\n",
        "def menu():\n",
        "    while True:\n",
        "        print(\"\\n=== Sistema de Biblioteca ===\")\n",
        "        print(\"1 - Cadastrar livro\")\n",
        "        print(\"2 - Listar livros\")\n",
        "        print(\"3 - Buscar livro pelo título\")\n",
        "        print(\"4 - Gerar gráfico de livros por gênero\")\n",
        "        print(\"5 - Sair\")\n",
        "\n",
        "        opcao = input(\"Escolha uma opção: \")\n",
        "\n",
        "        if opcao == \"1\":\n",
        "            cadastrar_livro()\n",
        "        elif opcao == \"2\":\n",
        "            listar_livros()\n",
        "        elif opcao == \"3\":\n",
        "            buscar_livro()\n",
        "        elif opcao == \"4\":\n",
        "            gerar_grafico()\n",
        "        elif opcao == \"5\":\n",
        "            print(\"Saindo do sistema...\")\n",
        "            break\n",
        "        else:\n",
        "            print(\"Opção inválida. Tente novamente.\")\n",
        "\n",
        "# Executar o menu\n",
        "menu()\n"
      ],
      "metadata": {
        "colab": {
          "base_uri": "https://localhost:8080/",
          "height": 1000
        },
        "id": "qaXEz3XceHsU",
        "outputId": "8d0f39ac-6892-4805-ea7a-f852ec6cca0d"
      },
      "execution_count": null,
      "outputs": [
        {
          "name": "stdout",
          "output_type": "stream",
          "text": [
            "\n",
            "=== Sistema de Biblioteca ===\n",
            "1 - Cadastrar livro\n",
            "2 - Listar livros\n",
            "3 - Buscar livro pelo título\n",
            "4 - Gerar gráfico de livros por gênero\n",
            "5 - Sair\n",
            "Escolha uma opção: flores\n",
            "Opção inválida. Tente novamente.\n",
            "\n",
            "=== Sistema de Biblioteca ===\n",
            "1 - Cadastrar livro\n",
            "2 - Listar livros\n",
            "3 - Buscar livro pelo título\n",
            "4 - Gerar gráfico de livros por gênero\n",
            "5 - Sair\n",
            "Escolha uma opção: 1\n",
            "Digite o título do livro: python\n",
            "Digite o autor do livro: ANHANGUERA EDUCACIONAL\n",
            "Digite o gênero do livro: Programação\n",
            "Digite a quantidade disponível: 1\n",
            "Livro 'python' cadastrado com sucesso!\n",
            "\n",
            "=== Sistema de Biblioteca ===\n",
            "1 - Cadastrar livro\n",
            "2 - Listar livros\n",
            "3 - Buscar livro pelo título\n",
            "4 - Gerar gráfico de livros por gênero\n",
            "5 - Sair\n",
            "Escolha uma opção: 4\n"
          ]
        },
        {
          "output_type": "display_data",
          "data": {
            "text/plain": [
              "<Figure size 640x480 with 1 Axes>"
            ],
            "image/png": "[encoded data removed]"
          },
          "metadata": {}
        },
        {
          "output_type": "stream",
          "name": "stdout",
          "text": [
            "\n",
            "=== Sistema de Biblioteca ===\n",
            "1 - Cadastrar livro\n",
            "2 - Listar livros\n",
            "3 - Buscar livro pelo título\n",
            "4 - Gerar gráfico de livros por gênero\n",
            "5 - Sair\n"
          ]
        }
      ]
    },
    {
      "cell_type": "code",
      "source": [
        "from google.colab import drive\n",
        "drive.mount('/content/drive')"
      ],
      "metadata": {
        "id": "WRl-5GJGdf-c"
      },
      "execution_count": null,
      "outputs": []
    }
  ]
}