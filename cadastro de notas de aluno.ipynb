{
  "cells": [
    {
      "cell_type": "markdown",
      "metadata": {
        "id": "view-in-github",
        "colab_type": "text"
      },
      "source": [
        "<a href=\"https://colab.research.google.com/github/fepPedroso/projeto-intermediario/blob/main/cadastro%20de%20notas%20de%20aluno.ipynb\" target=\"_parent\"><img src=\"https://colab.research.google.com/assets/colab-badge.svg\" alt=\"Open In Colab\"/></a>"
      ]
    },
    {
      "cell_type": "code",
      "source": [
        "# Sistema simples de gestão de notas de alunos\n",
        "\n",
        "def cadastrar_notas():\n",
        "    notas = []  # lista para armazenar notas\n",
        "    while True:\n",
        "        entrada = input(\"Digite a nota do aluno (ou -1 para encerrar): \")\n",
        "        try:\n",
        "            nota = float(entrada)\n",
        "        except ValueError:\n",
        "            print(\"Entrada inválida. Digite um número (ex: 7.5) ou -1 para encerrar.\")\n",
        "            continue\n",
        "\n",
        "        if nota == -1:  # condição de parada\n",
        "            break\n",
        "        if nota < 0:\n",
        "            print(\"Nota não pode ser negativa (exceto -1 para encerrar). Tente novamente.\")\n",
        "            continue\n",
        "\n",
        "        notas.append(nota)\n",
        "    return notas\n",
        "\n",
        "def calcular_media(notas):\n",
        "    if len(notas) == 0:  # evita divisão por zero\n",
        "        return 0.0\n",
        "    return sum(notas) / len(notas)\n",
        "\n",
        "def determinar_situacao(media):\n",
        "    if media >= 7:\n",
        "        return \"Aprovado\"\n",
        "    else:\n",
        "        return \"Reprovado\"\n",
        "\n",
        "def exibir_relatorio(notas, media, situacao):\n",
        "    print(\"\\n===== RELATÓRIO FINAL =====\")\n",
        "    print(\"Notas inseridas:\", notas)\n",
        "    print(\"Média:\", round(media, 2))\n",
        "    print(\"Situação:\", situacao)\n",
        "\n",
        "def main():\n",
        "    print(\"=== Sistema de Gestão de Notas ===\")\n",
        "    notas = cadastrar_notas()\n",
        "    media = calcular_media(notas)\n",
        "    situacao = determinar_situacao(media)\n",
        "    exibir_relatorio(notas, media, situacao)\n",
        "\n",
        "if __name__ == \"__main__\":\n",
        "    main()\n"
      ],
      "metadata": {
        "id": "oCe_RMcFmhME",
        "outputId": "59db0c6c-ff2c-4839-dc54-d1ec181013e9",
        "colab": {
          "base_uri": "https://localhost:8080/"
        }
      },
      "execution_count": null,
      "outputs": [
        {
          "output_type": "stream",
          "name": "stdout",
          "text": [
            "=== Sistema de Gestão de Notas ===\n"
          ]
        }
      ]
    }
  ],
  "metadata": {
    "colab": {
      "name": "Damos-lhe as boas-vindas ao Colab",
      "provenance": [],
      "include_colab_link": true
    },
    "kernelspec": {
      "display_name": "Python 3",
      "name": "python3"
    }
  },
  "nbformat": 4,
  "nbformat_minor": 0
}